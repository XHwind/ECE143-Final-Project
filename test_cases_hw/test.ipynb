{
 "cells": [
  {
   "cell_type": "code",
   "execution_count": 1,
   "metadata": {},
   "outputs": [
    {
     "name": "stdout",
     "output_type": "stream",
     "text": [
      "heelo\n"
     ]
    }
   ],
   "source": [
    "print(\"heelo\")"
   ]
  },
  {
   "cell_type": "markdown",
   "metadata": {},
   "source": [
    "# Problem: Slide window\n",
    "Implement a sliding window for an arbitrary input list. The function should take the window width and the window increment as inputs and should produce a sequence of overlapping lists from the input list. For example, given `x=list(range(15))`, the following is the output given a window width of 5 and window increment of 2.\n",
    " ```\n",
    "  [[0, 1, 2, 3, 4],\n",
    "   [2, 3, 4, 5, 6],\n",
    "   [4, 5, 6, 7, 8],\n",
    "   [6, 7, 8, 9, 10],\n",
    "   [8, 9, 10, 11, 12],\n",
    "   [10, 11, 12, 13, 14]]\n",
    "   ```\n",
    "In the event that the input parameters do not yield a complete set of even sublists, just truncate the ragged tail. For example,\n",
    "```\n",
    " >>> slide_window(list(range(18)),5,2)\n",
    "  [[0, 1, 2, 3, 4],\n",
    "   [2, 3, 4, 5, 6],\n",
    "   [4, 5, 6, 7, 8],\n",
    "   [6, 7, 8, 9, 10],\n",
    "   [8, 9, 10, 11, 12],\n",
    "   [10, 11, 12, 13, 14],\n",
    "   [12, 13, 14, 15, 16]]\n",
    " ```\n",
    "Here is the function signature: slide_window(x,width,increment) where increment>0, width>0, and x is a list.\n",
    "\n",
    "\n",
    "**validation Test** <br> \n",
    "Check for corner cases and constraints in the inputs enlist all cases used for testing"
   ]
  },
  {
   "cell_type": "code",
   "execution_count": null,
   "metadata": {},
   "outputs": [],
   "source": [
    "assert isinstance(x, list) #x must be a list\n",
    "assert isinstance(width, int) #width must be an integer\n",
    "assert isinstance(increment, int) # increment must be an integer\n"
   ]
  },
  {
   "cell_type": "markdown",
   "metadata": {},
   "source": [
    "**Function Test**<br>\n",
    "Check function output matches expected result enlist all cases used for testing"
   ]
  },
  {
   "cell_type": "code",
   "execution_count": null,
   "metadata": {},
   "outputs": [],
   "source": [
    "# TEST_CASE WITH WIDTH =3 AND INCREMENT = 4\n",
    "x=[1,2,3,4,5,6,7,8,9,10,11,12]\n",
    "assert width =3\n",
    "assert increment = 4"
   ]
  },
  {
   "cell_type": "code",
   "execution_count": null,
   "metadata": {},
   "outputs": [],
   "source": [
    "# TEST_CASE WITH WIDTH =5 AND INCREMENT = 2\n",
    "x=[1,2,3,4,5,6,7,8,9,10,11,12,13,14]\n",
    "assert width =5 \n",
    "assert increment =2"
   ]
  },
  {
   "cell_type": "markdown",
   "metadata": {},
   "source": [
    "# Problem: Duration Tracker Generators\n",
    "The code below defines a generator that returns the duration of its lifetime when called.\n",
    "```\n",
    " from time import sleep\n",
    " import random\n",
    " from datetime import datetime\n",
    " import itertools as it\n",
    " \n",
    " def producer():\n",
    "     'produce timestamps'\n",
    "     starttime = datetime.now()\n",
    "     while True:\n",
    "         sleep(random.uniform(0,0.2))\n",
    "         yield datetime.now()-starttime\n",
    "```\n",
    "For example,\n",
    "```\n",
    ">>> p = producer()\n",
    ">>> next(p)\n",
    "datetime.timedelta(0, 0, 106641)\n",
    " ```\n",
    "Note that the output of producer has a seconds attribute. Write a generator that tracks the output of this producer and ultimately returns the number of odd numbered seconds that have been iterated over. The usage pattern is the following,\n",
    "```\n",
    ">>> t = tracker(p,limit=2)\n",
    ">>> next(t)\n",
    "1\n",
    ">>> list( tracker(p,limit=2))\n",
    "[1,2] \n",
    "The limit keyword argument is the number of odd-numbered seconds to track until completion.\n",
    "\n",
    ">>> list( tracker(p,limit=5))\n",
    "[0, 0, 0, 0, 0, 0, 1, 2, 3, 4, 5] \n",
    "```\n",
    "The last line is interesting because is shows that the producer's seconds value output was an even number for the first six iterations. Your tracker generator should also receive input that changes the existing limit,\n",
    "```\n",
    ">>> t = tracker(p,limit=3)\n",
    ">>> next(t)\n",
    "0\n",
    ">>> next(t)\n",
    "0\n",
    ">>> t.send(5)\n",
    "1\n",
    ">>> list(t)\n",
    "[1, 1, 1, 1, 2, 3, 4, 5]\n",
    "```"
   ]
  },
  {
   "cell_type": "code",
   "execution_count": 1,
   "metadata": {},
   "outputs": [],
   "source": [
    "# import your producer and tracker\n",
    "#from hw import producer, tracker\n",
    "from time import sleep\n",
    "from datetime import datetime\n",
    "# define dummpy producer so we can control the sleep time\n",
    "def constant_producer(i):\n",
    "    starttime = datetime.now()\n",
    "    while True:\n",
    "        sleep(i)\n",
    "        yield datetime.now() - starttime\n",
    "\n",
    "def increment_producer():\n",
    "    starttime = datetime.now()\n",
    "    i = 1\n",
    "    while True:\n",
    "        sleep(i)\n",
    "        i+=1\n",
    "        yield datetime.now() - starttime"
   ]
  },
  {
   "cell_type": "markdown",
   "metadata": {},
   "source": [
    "**Validation Tests** <br>\n",
    "Check the limits passed to `tracker` and new_limits passed to `send` method."
   ]
  },
  {
   "cell_type": "code",
   "execution_count": null,
   "metadata": {},
   "outputs": [],
   "source": [
    "assert isinstance(limits, int) and limits >0\n",
    "assert isinstance(new_limits, int) and new_limits >=0"
   ]
  },
  {
   "cell_type": "markdown",
   "metadata": {},
   "source": [
    "**Functional Tests** <br>\n",
    "Test the functionality with cosutomed producer so we can control the sleep time"
   ]
  },
  {
   "cell_type": "code",
   "execution_count": null,
   "metadata": {},
   "outputs": [],
   "source": [
    "# test tracker for producer with different sleep time \n",
    "# notice that when the constant time is 2n, the tracker will run forever\n",
    "assert list(tracker(constant_producer(1), 2)) == [1, 1, 2]\n",
    "assert list(tracker(increment_producer(), 2))== [1, 2]"
   ]
  },
  {
   "cell_type": "code",
   "execution_count": null,
   "metadata": {},
   "outputs": [],
   "source": [
    "# test tracker with different number of limits\n",
    "assert list(tracker(constant_producer(1), 1)) == [1]\n",
    "assert list(tracker(constant_producer(1), 3)) == [1, 1, 2, 2, 3]"
   ]
  },
  {
   "cell_type": "code",
   "execution_count": null,
   "metadata": {},
   "outputs": [],
   "source": [
    "# test tracker with send\n",
    "# send limits>3\n",
    "t = tracker(constant_producer(1), limits=3)\n",
    "assert next(t) == 1\n",
    "assert t.send(5) == 1\n",
    "assert list(t) == [2, 2, 3, 3, 4, 4, 5]\n",
    "\n",
    "# send limits<3\n",
    "t = tracker(constant_producer(1), limits=3)\n",
    "assert next(t) == 1\n",
    "assert t.send(2) == 1\n",
    "assert list(t) == [2]\n",
    "\n",
    "# send limits<3 and when the tracker has alreay reach number>=3\n",
    "t = tracker(constant_producer(1), limits=3)\n",
    "assert next(t) == 1\n",
    "assert next(t) == 1\n",
    "assert t.send(2) == 2\n",
    "assert list(t) == []"
   ]
  },
  {
   "cell_type": "markdown",
   "metadata": {},
   "source": [
    "## Problem: Fibonacci\n",
    "The Fibonacci numbers are defined by the following recursion: F[n] = F[n-1]+F[n-2] with initial values F[1]=F[0]=1. Write a generator to compute the first n Fibonacci numbers. For example, for n=10, the output for list(fibonacci(n)) should be [1,1,2,3,5,8,13,21,34,55].\n"
   ]
  },
  {
   "cell_type": "markdown",
   "metadata": {},
   "source": [
    "##### Validation testcases"
   ]
  },
  {
   "cell_type": "code",
   "execution_count": 2,
   "metadata": {},
   "outputs": [
    {
     "ename": "NameError",
     "evalue": "name 'n' is not defined",
     "output_type": "error",
     "traceback": [
      "\u001b[1;31m---------------------------------------------------------------------------\u001b[0m",
      "\u001b[1;31mNameError\u001b[0m                                 Traceback (most recent call last)",
      "\u001b[1;32m<ipython-input-2-a8abadc452a3>\u001b[0m in \u001b[0;36m<module>\u001b[1;34m\u001b[0m\n\u001b[1;32m----> 1\u001b[1;33m \u001b[1;32massert\u001b[0m \u001b[0misinstance\u001b[0m\u001b[1;33m(\u001b[0m\u001b[0mn\u001b[0m\u001b[1;33m,\u001b[0m \u001b[0mint\u001b[0m\u001b[1;33m)\u001b[0m\u001b[1;33m\u001b[0m\u001b[1;33m\u001b[0m\u001b[0m\n\u001b[0m\u001b[0;32m      2\u001b[0m \u001b[1;32massert\u001b[0m \u001b[0mn\u001b[0m \u001b[1;33m>\u001b[0m \u001b[1;36m0\u001b[0m\u001b[1;33m\u001b[0m\u001b[1;33m\u001b[0m\u001b[0m\n\u001b[0;32m      3\u001b[0m \u001b[1;33m\u001b[0m\u001b[0m\n\u001b[0;32m      4\u001b[0m \u001b[1;31m# Check if function is of generator type\u001b[0m\u001b[1;33m\u001b[0m\u001b[1;33m\u001b[0m\u001b[1;33m\u001b[0m\u001b[0m\n\u001b[0;32m      5\u001b[0m \u001b[1;32mimport\u001b[0m \u001b[0mtypes\u001b[0m\u001b[1;33m\u001b[0m\u001b[1;33m\u001b[0m\u001b[0m\n",
      "\u001b[1;31mNameError\u001b[0m: name 'n' is not defined"
     ]
    }
   ],
   "source": [
    "assert isinstance(n, int)\n",
    "assert n > 0\n",
    "\n",
    "# Check if function is of generator type\n",
    "import types\n",
    "f = fibonacci(5)\n",
    "isinstance(f, types.GeneratorType)"
   ]
  },
  {
   "cell_type": "markdown",
   "metadata": {},
   "source": [
    "##### Functional testcases"
   ]
  },
  {
   "cell_type": "code",
   "execution_count": 5,
   "metadata": {},
   "outputs": [
    {
     "ename": "NameError",
     "evalue": "name 'fibonacci' is not defined",
     "output_type": "error",
     "traceback": [
      "\u001b[1;31m---------------------------------------------------------------------------\u001b[0m",
      "\u001b[1;31mNameError\u001b[0m                                 Traceback (most recent call last)",
      "\u001b[1;32m<ipython-input-5-b29089208c34>\u001b[0m in \u001b[0;36m<module>\u001b[1;34m\u001b[0m\n\u001b[0;32m      1\u001b[0m \u001b[1;31m# Check for first 10 elements\u001b[0m\u001b[1;33m\u001b[0m\u001b[1;33m\u001b[0m\u001b[1;33m\u001b[0m\u001b[0m\n\u001b[1;32m----> 2\u001b[1;33m \u001b[0mf\u001b[0m \u001b[1;33m=\u001b[0m \u001b[0mfibonacci\u001b[0m\u001b[1;33m(\u001b[0m\u001b[1;36m10\u001b[0m\u001b[1;33m)\u001b[0m\u001b[1;33m\u001b[0m\u001b[1;33m\u001b[0m\u001b[0m\n\u001b[0m\u001b[0;32m      3\u001b[0m \u001b[0mfib_list\u001b[0m \u001b[1;33m=\u001b[0m \u001b[1;33m[\u001b[0m\u001b[1;36m1\u001b[0m\u001b[1;33m,\u001b[0m \u001b[1;36m1\u001b[0m\u001b[1;33m,\u001b[0m \u001b[1;36m2\u001b[0m\u001b[1;33m,\u001b[0m \u001b[1;36m3\u001b[0m\u001b[1;33m,\u001b[0m \u001b[1;36m5\u001b[0m\u001b[1;33m,\u001b[0m \u001b[1;36m8\u001b[0m\u001b[1;33m,\u001b[0m \u001b[1;36m13\u001b[0m\u001b[1;33m,\u001b[0m \u001b[1;36m21\u001b[0m\u001b[1;33m,\u001b[0m \u001b[1;36m34\u001b[0m\u001b[1;33m,\u001b[0m \u001b[1;36m55\u001b[0m\u001b[1;33m]\u001b[0m\u001b[1;33m\u001b[0m\u001b[1;33m\u001b[0m\u001b[0m\n\u001b[0;32m      4\u001b[0m \u001b[1;33m\u001b[0m\u001b[0m\n\u001b[0;32m      5\u001b[0m \u001b[1;32mfor\u001b[0m \u001b[0mi\u001b[0m \u001b[1;32min\u001b[0m \u001b[0mrange\u001b[0m\u001b[1;33m(\u001b[0m\u001b[1;36m10\u001b[0m\u001b[1;33m)\u001b[0m\u001b[1;33m:\u001b[0m\u001b[1;33m\u001b[0m\u001b[1;33m\u001b[0m\u001b[0m\n",
      "\u001b[1;31mNameError\u001b[0m: name 'fibonacci' is not defined"
     ]
    }
   ],
   "source": [
    "# Check for first 10 elements\n",
    "f = fibonacci(10)\n",
    "fib_list = [1, 1, 2, 3, 5, 8, 13, 21, 34, 55]\n",
    "\n",
    "for i in range(10):\n",
    "    op = next(f)\n",
    "    assert op == fib_list[i]\n",
    "    \n",
    "# Check if next() raises error when n calls are done\n",
    "try:\n",
    "    op = next(f)\n",
    "    assert 1 == 0\n",
    "except StopIteration:\n",
    "    pass"
   ]
  },
  {
   "cell_type": "code",
   "execution_count": null,
   "metadata": {},
   "outputs": [],
   "source": []
  }
 ],
 "metadata": {
  "kernelspec": {
   "display_name": "Python 3",
   "language": "python",
   "name": "python3"
  },
  "language_info": {
   "codemirror_mode": {
    "name": "ipython",
    "version": 3
   },
   "file_extension": ".py",
   "mimetype": "text/x-python",
   "name": "python",
   "nbconvert_exporter": "python",
   "pygments_lexer": "ipython3",
   "version": "3.8.5"
  }
 },
 "nbformat": 4,
 "nbformat_minor": 4
}
