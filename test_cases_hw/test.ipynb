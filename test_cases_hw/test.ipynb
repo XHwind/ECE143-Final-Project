{
 "cells": [
  {
   "cell_type": "markdown",
   "metadata": {},
   "source": [
    "# Running instructions\n",
    "Please import the function you want to test and specify the parameters for each functions explicitly before running the following tests. An example is shown below.\n",
    "```\n",
    "from homework_solution.py import slide_window\n",
    "x = list(range(18))\n",
    "width = 5\n",
    "increment = 2\n",
    "```\n",
    "Please import function and set those arguments first before running the validation test. Please import the function before running the functional test."
   ]
  },
  {
   "cell_type": "markdown",
   "metadata": {},
   "source": [
    "# Problem: Slide window\n",
    "Implement a sliding window for an arbitrary input list. The function should take the window width and the window increment as inputs and should produce a sequence of overlapping lists from the input list. For example, given `x=list(range(15))`, the following is the output given a window width of 5 and window increment of 2.\n",
    " ```\n",
    "  [[0, 1, 2, 3, 4],\n",
    "   [2, 3, 4, 5, 6],\n",
    "   [4, 5, 6, 7, 8],\n",
    "   [6, 7, 8, 9, 10],\n",
    "   [8, 9, 10, 11, 12],\n",
    "   [10, 11, 12, 13, 14]]\n",
    "   ```\n",
    "In the event that the input parameters do not yield a complete set of even sublists, just truncate the ragged tail. For example,\n",
    "```\n",
    " >>> slide_window(list(range(18)),5,2)\n",
    "  [[0, 1, 2, 3, 4],\n",
    "   [2, 3, 4, 5, 6],\n",
    "   [4, 5, 6, 7, 8],\n",
    "   [6, 7, 8, 9, 10],\n",
    "   [8, 9, 10, 11, 12],\n",
    "   [10, 11, 12, 13, 14],\n",
    "   [12, 13, 14, 15, 16]]\n",
    " ```\n",
    "Here is the function signature: slide_window(x,width,increment) where increment>0, width>0, and x is a list.\n",
    "\n",
    "\n",
    "**validation Test** <br> "
   ]
  },
  {
   "cell_type": "code",
   "execution_count": null,
   "metadata": {},
   "outputs": [],
   "source": [
    "assert isinstance(x, list), \"x must be a list\"\n",
    "assert isinstance(width, int) and width>0, \"width must be an integer and greater than 0\"\n",
    "assert isinstance(increment, int) and increment>0, \"increment must be an integer and greater than 0\""
   ]
  },
  {
   "cell_type": "markdown",
   "metadata": {},
   "source": [
    "**Function Test**<br>"
   ]
  },
  {
   "cell_type": "code",
   "execution_count": null,
   "metadata": {},
   "outputs": [],
   "source": [
    "# test cases when input parameters don't yield a complete set of even sublists\n",
    "x = [1,2,3,4,5,6,7,8,9,10,11,12]\n",
    "width = 3\n",
    "increment = 4\n",
    "assert slide_window(x,width,increment) == [[1,2,3],[5,6,7],[9,10,11]], \"Checking cases input parameters can't yield complete set of even sublists\""
   ]
  },
  {
   "cell_type": "code",
   "execution_count": null,
   "metadata": {},
   "outputs": [],
   "source": [
    "# test cases when input parameters generate complete set of sublists\n",
    "x=[1,2,3,4,5,6,7,8,9,10,11]\n",
    "width =5 \n",
    "increment =2\n",
    "assert slide_window(x,width,increment) == [[1, 2, 3, 4, 5], [3, 4, 5, 6, 7], [5, 6, 7, 8, 9], [7, 8, 9, 10, 11]], \"Checking cases input parameters yield complete set of even sublists\""
   ]
  },
  {
   "cell_type": "markdown",
   "metadata": {},
   "source": [
    "# Problem: Duration Tracker Generators\n",
    "The code below defines a generator that returns the duration of its lifetime when called.\n",
    "```\n",
    "from time import sleep\n",
    "import random\n",
    "from datetime import datetime\n",
    "import itertools as it\n",
    "\n",
    "def producer():\n",
    "    'produce timestamps'\n",
    "    starttime = datetime.now()\n",
    "    while True:\n",
    "        sleep(random.uniform(0,0.2))\n",
    "        yield datetime.now()-starttime\n",
    "```\n",
    "For example,\n",
    "```\n",
    ">>> p = producer()\n",
    ">>> next(p)\n",
    "datetime.timedelta(0, 0, 106641)\n",
    " ```\n",
    "Note that the output of producer has a seconds attribute. Write a generator that tracks the output of this producer and ultimately returns the number of odd numbered seconds that have been iterated over. The usage pattern is the following,\n",
    "```\n",
    ">>> t = tracker(p,limit=2)\n",
    ">>> next(t)\n",
    "1\n",
    ">>> list( tracker(p,limit=2))\n",
    "[1,2] \n",
    "The limit keyword argument is the number of odd-numbered seconds to track until completion.\n",
    "\n",
    ">>> list( tracker(p,limit=5))\n",
    "[0, 0, 0, 0, 0, 0, 1, 2, 3, 4, 5] \n",
    "```\n",
    "The last line is interesting because is shows that the producer's seconds value output was an even number for the first six iterations. Your tracker generator should also receive input that changes the existing limit,\n",
    "```\n",
    ">>> t = tracker(p,limit=3)\n",
    ">>> next(t)\n",
    "0\n",
    ">>> next(t)\n",
    "0\n",
    ">>> t.send(5)\n",
    "1\n",
    ">>> list(t)\n",
    "[1, 1, 1, 1, 2, 3, 4, 5]\n",
    "```"
   ]
  },
  {
   "cell_type": "markdown",
   "metadata": {},
   "source": [
    "Since the random.uniform will generate different values for each run. Thus we choose to define the following producers to help the test so we can control the sleep time explicitly. "
   ]
  },
  {
   "cell_type": "code",
   "execution_count": 1,
   "metadata": {},
   "outputs": [],
   "source": [
    "# import your producer and tracker\n",
    "#from hw import producer, tracker\n",
    "from time import sleep\n",
    "from datetime import datetime\n",
    "# define dummpy producer so we can control the sleep time\n",
    "def constant_producer(i):\n",
    "    starttime = datetime.now()\n",
    "    while True:\n",
    "        sleep(i)\n",
    "        yield datetime.now() - starttime\n",
    "\n",
    "def increment_producer():\n",
    "    starttime = datetime.now()\n",
    "    i = 1\n",
    "    while True:\n",
    "        sleep(i)\n",
    "        i+=1\n",
    "        yield datetime.now() - starttime"
   ]
  },
  {
   "cell_type": "markdown",
   "metadata": {},
   "source": [
    "##### In this problem, since some of the parameter names are not explicitly stated in the original problem. Thus we used the following names.\n",
    "function call: `tracker(p, limits)`\n",
    "\n",
    "send method: `tracker.send(new_limits)`"
   ]
  },
  {
   "cell_type": "markdown",
   "metadata": {},
   "source": [
    "**Validation Tests** <br>\n",
    "Check the limits passed to `tracker` and new_limits passed to `send` method."
   ]
  },
  {
   "cell_type": "code",
   "execution_count": null,
   "metadata": {},
   "outputs": [],
   "source": [
    "from types import GeneratorType\n",
    "\n",
    "assert isinstance(p, GeneratorType), \"input producer must be generator type\"\n",
    "assert isinstance(limits, int) and limits >0, \"limits must be integer and greater than 0\"\n",
    "assert isinstance(new_limits, int) and new_limits >0, \"the parameter passed to send must be integer and greater than 0\""
   ]
  },
  {
   "cell_type": "markdown",
   "metadata": {},
   "source": [
    "**Functional Tests** <br>\n",
    "Test the functionality with cosutomed producer so we can control the sleep time"
   ]
  },
  {
   "cell_type": "code",
   "execution_count": null,
   "metadata": {},
   "outputs": [],
   "source": [
    "# test tracker for producer with different sleep time \n",
    "# notice that when the constant time is 2n, the tracker will run forever\n",
    "assert list(tracker(constant_producer(1), 2)) == [1, 1, 2], \"constant 1 sleep time test\"\n",
    "assert list(tracker(increment_producer(), 2))== [1, 2], \"increment sleep time test\""
   ]
  },
  {
   "cell_type": "code",
   "execution_count": null,
   "metadata": {},
   "outputs": [],
   "source": [
    "# test tracker with different number of limits\n",
    "assert list(tracker(constant_producer(1), 1)) == [1], \"const 1 sleep time and limits=1\"\n",
    "assert list(tracker(constant_producer(1), 3)) == [1, 1, 2, 2, 3], \"constant 1 sleep time and limits=3\""
   ]
  },
  {
   "cell_type": "code",
   "execution_count": null,
   "metadata": {},
   "outputs": [],
   "source": [
    "# test tracker with send\n",
    "# send limits>3\n",
    "t = tracker(constant_producer(1), limits=3)\n",
    "assert next(t) == 1, \"limits=3<new_limits=5\"\n",
    "assert t.send(5) == 1, \"limits=3<new_limits=5\"\n",
    "assert list(t) == [2, 2, 3, 3, 4, 4, 5], \"limits=3<new_limits=5\"\n",
    "\n",
    "# send limits<3\n",
    "t = tracker(constant_producer(1), limits=3)\n",
    "assert next(t) == 1, \"limits=3>new_limits=2\"\n",
    "assert t.send(2) == 1, \"limits=3>new_limits=2\"\n",
    "assert list(t) == [2], \"limits=3>new_limits=2\"\n",
    "\n",
    "# send limits<3 and when the tracker has alreay reach number>=3\n",
    "t = tracker(constant_producer(1), limits=3)\n",
    "assert next(t) == 1, \"limits=3>new_limits=2 and when we send the message the tracker has reached iteration=3\"\n",
    "assert next(t) == 1, \"limits=3>new_limits=2 and when we send the message the tracker has reached iteration=3\"\n",
    "assert t.send(2) == 2, \"limits=3>new_limits=2 and when we send the message the tracker has reached iteration=3\"\n",
    "assert list(t) == [], \"limits=3>new_limits=2 and when we send the message the tracker has reached iteration=3\""
   ]
  },
  {
   "cell_type": "markdown",
   "metadata": {},
   "source": [
    "## Problem: Fibonacci\n",
    "The Fibonacci numbers are defined by the following recursion: `F[n] = F[n-1]+F[n-2]` with initial values `F[1]=F[0]=1`. Write a generator to compute the first n Fibonacci numbers. For example, for n=10, the output for `list(fibonacci(n))` should be `[1,1,2,3,5,8,13,21,34,55]`.\n"
   ]
  },
  {
   "cell_type": "markdown",
   "metadata": {},
   "source": [
    "##### Validation testcases"
   ]
  },
  {
   "cell_type": "code",
   "execution_count": 2,
   "metadata": {},
   "outputs": [],
   "source": [
    "assert isinstance(n, int) and n>0, \"n must be integer and greater than 0\"\n",
    "# Check if function is of generator type\n",
    "import types\n",
    "f = fibonacci(5)\n",
    "assert isinstance(f, types.GeneratorType), \"fibonacci function must be implemented as generator\""
   ]
  },
  {
   "cell_type": "markdown",
   "metadata": {},
   "source": [
    "##### Functional testcases"
   ]
  },
  {
   "cell_type": "code",
   "execution_count": 4,
   "metadata": {},
   "outputs": [],
   "source": [
    "# Check for first 10 elements\n",
    "assert list(fibonacci(10)) == [1, 1, 2, 3, 5, 8, 13, 21, 34, 55], \"test fibonacci(10)->case n>1\"\n",
    "assert list(fibonacci(1)) == [1], \"test fibonacci(1)->case n=1\""
   ]
  },
  {
   "cell_type": "code",
   "execution_count": null,
   "metadata": {},
   "outputs": [],
   "source": []
  }
 ],
 "metadata": {
  "kernelspec": {
   "display_name": "Python 3",
   "language": "python",
   "name": "python3"
  },
  "language_info": {
   "codemirror_mode": {
    "name": "ipython",
    "version": 3
   },
   "file_extension": ".py",
   "mimetype": "text/x-python",
   "name": "python",
   "nbconvert_exporter": "python",
   "pygments_lexer": "ipython3",
   "version": "3.7.6"
  }
 },
 "nbformat": 4,
 "nbformat_minor": 4
}
