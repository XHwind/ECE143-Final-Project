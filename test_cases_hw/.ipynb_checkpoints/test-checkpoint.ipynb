{
 "cells": [
  {
   "cell_type": "code",
   "execution_count": null,
   "metadata": {},
   "outputs": [],
   "source": []
  },
  {
   "cell_type": "code",
   "execution_count": null,
   "metadata": {},
   "outputs": [],
   "source": []
  },
  {
   "cell_type": "code",
   "execution_count": null,
   "metadata": {},
   "outputs": [],
   "source": []
  },
  {
   "cell_type": "code",
   "execution_count": null,
   "metadata": {},
   "outputs": [],
   "source": []
  },
  {
   "cell_type": "markdown",
   "metadata": {},
   "source": [
    "# Problem: Duration Tracker Generators\n",
    "The code below defines a generator that returns the duration of its lifetime when called.\n",
    "\n",
    " from time import sleep\n",
    " import random\n",
    " from datetime import datetime\n",
    " import itertools as it\n",
    " \n",
    " def producer():\n",
    "     'produce timestamps'\n",
    "     starttime = datetime.now()\n",
    "     while True:\n",
    "         sleep(random.uniform(0,0.2))\n",
    "         yield datetime.now()-starttime\n",
    " \n",
    "For example,\n",
    "```\n",
    ">>> p = producer()\n",
    ">>> next(p)\n",
    "datetime.timedelta(0, 0, 106641)\n",
    " ```\n",
    "Note that the output of producer has a seconds attribute. Write a generator that tracks the output of this producer and ultimately returns the number of odd numbered seconds that have been iterated over. The usage pattern is the following,\n",
    "```\n",
    ">>> t = tracker(p,limit=2)\n",
    ">>> next(t)\n",
    "1\n",
    ">>> list( tracker(p,limit=2))\n",
    "[1,2] \n",
    "The limit keyword argument is the number of odd-numbered seconds to track until completion.\n",
    "\n",
    ">>> list( tracker(p,limit=5))\n",
    "[0, 0, 0, 0, 0, 0, 1, 2, 3, 4, 5] \n",
    "```\n",
    "The last line is interesting because is shows that the producer's seconds value output was an even number for the first six iterations. Your tracker generator should also receive input that changes the existing limit,\n",
    "```\n",
    ">>> t = tracker(p,limit=3)\n",
    ">>> next(t)\n",
    "0\n",
    ">>> next(t)\n",
    "0\n",
    ">>> t.send(5)\n",
    "1\n",
    ">>> list(t)\n",
    "[1, 1, 1, 1, 2, 3, 4, 5]\n",
    "```"
   ]
  },
  {
   "cell_type": "code",
   "execution_count": 1,
   "metadata": {},
   "outputs": [],
   "source": [
    "# import your producer and tracker\n",
    "#from hw import producer, tracker\n",
    "from time import sleep\n",
    "from datetime import datetime\n",
    "import pdb\n",
    "# define dummpy producer so we can control the sleep time\n",
    "def constant_producer(i):\n",
    "    starttime = datetime.now()\n",
    "    while True:\n",
    "        sleep(i)\n",
    "        yield datetime.now() - starttime\n",
    "\n",
    "def increment_producer():\n",
    "    starttime = datetime.now()\n",
    "    i = 1\n",
    "    while True:\n",
    "        sleep(i)\n",
    "        i+=1\n",
    "        yield datetime.now() - starttime"
   ]
  },
  {
   "cell_type": "markdown",
   "metadata": {},
   "source": [
    "**Validation Tests** <br>\n",
    "Check the limits passed to `tracker` and new_limits passed to `send` method."
   ]
  },
  {
   "cell_type": "code",
   "execution_count": null,
   "metadata": {},
   "outputs": [],
   "source": [
    "assert isinstance(limits, int) and limits >0\n",
    "assert isinstance(new_limits, int) and new_limits >=0"
   ]
  },
  {
   "cell_type": "markdown",
   "metadata": {},
   "source": [
    "**Functional Tests** <br>\n",
    "Test the functionality with cosutomed producer so we can control the sleep time"
   ]
  },
  {
   "cell_type": "code",
   "execution_count": null,
   "metadata": {},
   "outputs": [],
   "source": [
    "# test tracker for producer with different sleep time \n",
    "# notice that when the constant time is 2n, the tracker will run forever\n",
    "assert list(tracker(constant_producer(1), 2)) == [1, 1, 2]\n",
    "assert list(tracker(increment_producer(), 2))== [1, 2]"
   ]
  },
  {
   "cell_type": "code",
   "execution_count": null,
   "metadata": {},
   "outputs": [],
   "source": [
    "# test tracker with different number of limits\n",
    "assert list(tracker(constant_producer(1), 1)) == [1]\n",
    "assert list(tracker(constant_producer(1), 3)) == [1, 1, 2, 2, 3]"
   ]
  },
  {
   "cell_type": "code",
   "execution_count": null,
   "metadata": {},
   "outputs": [],
   "source": [
    "# test tracker with send\n",
    "# send limits>3\n",
    "t = tracker(constant_producer(1), limits=3)\n",
    "assert next(t) == 1\n",
    "assert t.send(5) == 1\n",
    "assert list(t) == [2, 2, 3, 3, 4, 4, 5]\n",
    "\n",
    "# send limits<3\n",
    "t = tracker(constant_producer(1), limits=3)\n",
    "assert next(t) == 1\n",
    "assert t.send(2) == 1\n",
    "assert list(t) == [2]\n",
    "\n",
    "# send limits<3 and when the tracker has alreay reach number>=3\n",
    "t = tracker(constant_producer(1), limits=3)\n",
    "assert next(t) == 1\n",
    "assert next(t) == 1\n",
    "assert t.send(2) == 2\n",
    "assert list(t) == []"
   ]
  }
 ],
 "metadata": {
  "kernelspec": {
   "display_name": "Python 3",
   "language": "python",
   "name": "python3"
  },
  "language_info": {
   "codemirror_mode": {
    "name": "ipython",
    "version": 3
   },
   "file_extension": ".py",
   "mimetype": "text/x-python",
   "name": "python",
   "nbconvert_exporter": "python",
   "pygments_lexer": "ipython3",
   "version": "3.7.6"
  }
 },
 "nbformat": 4,
 "nbformat_minor": 4
}
